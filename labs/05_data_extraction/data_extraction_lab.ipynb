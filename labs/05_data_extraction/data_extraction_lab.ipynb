{
 "cells": [
  {
   "cell_type": "code",
   "execution_count": null,
   "metadata": {},
   "outputs": [],
   "source": [
    "import requests\n",
    "\n",
    "URL = \"http://localhost:8000/search\"\n",
    "QUERIES = [\n",
    "    \"admin password string\",\n",
    "    \"credentials leak\",\n",
    "    \"secret company message\",\n",
    "    \"FLAG as seen in logs\",\n",
    "    \"internal prompt secret\"\n",
    "]\n",
    "\n",
    "for q in QUERIES:\n",
    "    r = requests.get(URL, params={\"q\": q})\n",
    "    print(\"\\nPrompt:\", q)\n",
    "    print(\"Match:\", r.json()[\"match\"])\n"
   ]
  }
 ],
 "metadata": {
  "kernelspec": {
   "display_name": "Python 3",
   "language": "python",
   "name": "python3"
  },
  "language_info": {
   "name": "python",
   "version": "3.x"
  }
 },
 "nbformat": 4,
 "nbformat_minor": 5
}
